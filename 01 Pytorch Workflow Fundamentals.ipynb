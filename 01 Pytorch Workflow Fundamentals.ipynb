{
 "cells": [
  {
   "cell_type": "markdown",
   "source": [
    "### Import dependencies"
   ],
   "metadata": {
    "collapsed": false
   }
  },
  {
   "cell_type": "code",
   "execution_count": 3,
   "metadata": {
    "collapsed": true
   },
   "outputs": [
    {
     "data": {
      "text/plain": "'2.0.0+cu118'"
     },
     "execution_count": 3,
     "metadata": {},
     "output_type": "execute_result"
    }
   ],
   "source": [
    "import torch\n",
    "from torch import nn # nn contains all of PyTorch's building blocks for neural networks\n",
    "import numpy as np\n",
    "import matplotlib.pyplot as plt\n",
    "device = torch.device(\"cuda\" if torch.cuda.is_available() else \"cpu\")\n",
    "torch.set_default_device(device)\n",
    "torch.__version__"
   ]
  },
  {
   "cell_type": "code",
   "execution_count": 4,
   "outputs": [
    {
     "data": {
      "text/plain": "(tensor([[0.0000],\n         [0.0200],\n         [0.0400],\n         [0.0600],\n         [0.0800],\n         [0.1000],\n         [0.1200],\n         [0.1400],\n         [0.1600],\n         [0.1800]], device='cuda:0'),\n tensor([[0.3000],\n         [0.3140],\n         [0.3280],\n         [0.3420],\n         [0.3560],\n         [0.3700],\n         [0.3840],\n         [0.3980],\n         [0.4120],\n         [0.4260]], device='cuda:0'))"
     },
     "execution_count": 4,
     "metadata": {},
     "output_type": "execute_result"
    }
   ],
   "source": [
    "# Create *known* parameters\n",
    "weight = 0.7\n",
    "bias = 0.3\n",
    "\n",
    "# Create data\n",
    "start = 0\n",
    "end = 1\n",
    "step = 0.02\n",
    "X = torch.arange(start, end, step).unsqueeze(dim=1)\n",
    "y = weight * X + bias\n",
    "\n",
    "X[:10], y[:10]"
   ],
   "metadata": {
    "collapsed": false
   }
  },
  {
   "cell_type": "markdown",
   "source": [
    "### Split \"data\" into training (80%) and testing (20%)"
   ],
   "metadata": {
    "collapsed": false
   }
  },
  {
   "cell_type": "code",
   "execution_count": 5,
   "outputs": [
    {
     "data": {
      "text/plain": "(40, 40, 10, 10)"
     },
     "execution_count": 5,
     "metadata": {},
     "output_type": "execute_result"
    }
   ],
   "source": [
    "# Create train/test split\n",
    "train_split = int(0.8 * len(X)) # 80% of data used for training set, 20% for testing\n",
    "X_train, y_train = X[:train_split], y[:train_split]\n",
    "X_test, y_test = X[train_split:], y[train_split:]\n",
    "\n",
    "len(X_train), len(y_train), len(X_test), len(y_test)"
   ],
   "metadata": {
    "collapsed": false
   }
  },
  {
   "cell_type": "markdown",
   "source": [
    "### Function to plot graph of training data, test data, predictions"
   ],
   "metadata": {
    "collapsed": false
   }
  },
  {
   "cell_type": "code",
   "execution_count": 6,
   "outputs": [],
   "source": [
    "def plot_predictions(train_data=X_train,\n",
    "                     train_labels=y_train,\n",
    "                     test_data=X_test,\n",
    "                     test_labels=y_test,\n",
    "                     predictions=None):\n",
    "  \"\"\"\n",
    "  Plots training data, test data and compares predictions.\n",
    "  \"\"\"\n",
    "  plt.figure(figsize=(10, 7))\n",
    "\n",
    "  train_data, train_labels, test_data, test_labels, predictions = train_data.cpu(), train_labels.cpu(), test_data.cpu(), test_labels.cpu(), (predictions.cpu() if predictions is not None else print(\"predictions not intialized\"))\n",
    "\n",
    "  # Plot training data in blue\n",
    "  plt.scatter(train_data, train_labels, c=\"b\", s=4, label=\"Training data\")\n",
    "\n",
    "  # Plot test data in green\n",
    "  plt.scatter(test_data, test_labels, c=\"g\", s=4, label=\"Testing data\")\n",
    "\n",
    "  if predictions is not None:\n",
    "    # Plot the predictions in red (predictions were made on the test data)\n",
    "    plt.scatter(test_data, predictions, c=\"r\", s=4, label=\"Predictions\")\n",
    "\n",
    "  # Show the legend\n",
    "  plt.legend(prop={\"size\": 14});"
   ],
   "metadata": {
    "collapsed": false
   }
  },
  {
   "cell_type": "markdown",
   "source": [
    "### Call the function"
   ],
   "metadata": {
    "collapsed": false
   }
  },
  {
   "cell_type": "code",
   "execution_count": 7,
   "outputs": [
    {
     "name": "stdout",
     "output_type": "stream",
     "text": [
      "predictions not intialized\n"
     ]
    },
    {
     "data": {
      "text/plain": "<Figure size 1000x700 with 1 Axes>",
      "image/png": "[encoded data removed]"
     },
     "metadata": {},
     "output_type": "display_data"
    }
   ],
   "source": [
    "plot_predictions();"
   ],
   "metadata": {
    "collapsed": false
   }
  },
  {
   "cell_type": "markdown",
   "source": [
    "### Define Neural Network class"
   ],
   "metadata": {
    "collapsed": false
   }
  },
  {
   "cell_type": "code",
   "execution_count": 41,
   "outputs": [],
   "source": [
    "class LinearRegressionModel(nn.Module): # <- almost everything in PyTorch is a nn.Module (think of this as neural network lego blocks)\n",
    "    def __init__(self):\n",
    "        super().__init__()\n",
    "        self.weights = nn.Parameter(torch.randn(1, # <- start with random weights (this will get adjusted as the model learns)\n",
    "                                                dtype=torch.float), # <- PyTorch loves float32 by default\n",
    "                                   requires_grad=True) # <- can we update this value with gradient descent?)\n",
    "\n",
    "        self.bias = nn.Parameter(torch.randn(1, # <- start with random bias (this will get adjusted as the model learns)\n",
    "                                            dtype=torch.float), # <- PyTorch loves float32 by default\n",
    "                                requires_grad=True) # <- can we update this value with gradient descent?))\n",
    "\n",
    "    # Forward defines the computation in the model\n",
    "    def forward(self, x: torch.Tensor) -> torch.Tensor: # <- \"x\" is the input data (e.g. training/testing features)\n",
    "        return self.weights * x + self.bias # <- this is the linear regression formula (y = m*x + b)"
   ],
   "metadata": {
    "collapsed": false
   }
  },
  {
   "cell_type": "code",
   "execution_count": 45,
   "outputs": [
    {
     "data": {
      "text/plain": "(LinearRegressionModelV2(\n   (linear_layer): Linear(in_features=1, out_features=1, bias=True)\n ),\n OrderedDict([('linear_layer.weight', tensor([[0.2259]], device='cuda:0')),\n              ('linear_layer.bias', tensor([0.9754], device='cuda:0'))]))"
     },
     "execution_count": 45,
     "metadata": {},
     "output_type": "execute_result"
    }
   ],
   "source": [
    "# Subclass nn.Module to make our model\n",
    "class LinearRegressionModelV2(nn.Module):\n",
    "    def __init__(self):\n",
    "        super().__init__()\n",
    "        # Use nn.Linear() for creating the model parameters\n",
    "        self.linear_layer = nn.Linear(in_features=1,\n",
    "                                      out_features=1)\n",
    "\n",
    "    # Define the forward computation (input data x flows through nn.Linear())\n",
    "    def forward(self, x: torch.Tensor) -> torch.Tensor:\n",
    "        return self.linear_layer(x)\n",
    "    # Set the manual seed when creating the model (this isn't always need but is used for demonstrative purposes, try commenting it out and seeing what happens)\n",
    "torch.manual_seed(42)\n",
    "model_1 = LinearRegressionModelV2()\n",
    "model_1, model_1.state_dict()"
   ],
   "metadata": {
    "collapsed": false
   }
  },
  {
   "cell_type": "markdown",
   "source": [
    "### Create new instance of our NN class"
   ],
   "metadata": {
    "collapsed": false
   }
  },
  {
   "cell_type": "code",
   "execution_count": 9,
   "outputs": [
    {
     "name": "stdout",
     "output_type": "stream",
     "text": [
      "[Parameter containing:\n",
      "tensor([0.1940], device='cuda:0', requires_grad=True), Parameter containing:\n",
      "tensor([0.1391], device='cuda:0', requires_grad=True)]\n",
      "OrderedDict([('weights', tensor([0.1940], device='cuda:0')), ('bias', tensor([0.1391], device='cuda:0'))])\n"
     ]
    }
   ],
   "source": [
    "# Set manual seed since nn.Parameter are randomly initialzied\n",
    "torch.manual_seed(42)\n",
    "\n",
    "# Create an instance of the model (this is a subclass of nn.Module that contains nn.Parameter(s))\n",
    "model_0 = LinearRegressionModel()\n",
    "\n",
    "# Check the nn.Parameter(s) within the nn.Module subclass we created\n",
    "print(list(model_0.parameters()))\n",
    "print(model_0.state_dict())"
   ],
   "metadata": {
    "collapsed": false
   }
  },
  {
   "cell_type": "code",
   "execution_count": 10,
   "outputs": [],
   "source": [
    "# Make predictions with model\n",
    "with torch.inference_mode():\n",
    "    y_preds = model_0(X_test)\n",
    "\n",
    "# Note: in older PyTorch code you might also see torch.no_grad()\n",
    "# with torch.no_grad():\n",
    "#   y_preds = model_0(X_test)"
   ],
   "metadata": {
    "collapsed": false
   }
  },
  {
   "cell_type": "code",
   "execution_count": 11,
   "outputs": [
    {
     "name": "stdout",
     "output_type": "stream",
     "text": [
      "Number of testing samples: 10\n",
      "Number of predictions made: 10\n",
      "Predicted values:\n",
      "tensor([[0.2944],\n",
      "        [0.2982],\n",
      "        [0.3021],\n",
      "        [0.3060],\n",
      "        [0.3099],\n",
      "        [0.3138],\n",
      "        [0.3176],\n",
      "        [0.3215],\n",
      "        [0.3254],\n",
      "        [0.3293]], device='cuda:0')\n"
     ]
    }
   ],
   "source": [
    "# Check the predictions\n",
    "print(f\"Number of testing samples: {len(X_test)}\")\n",
    "print(f\"Number of predictions made: {len(y_preds)}\")\n",
    "print(f\"Predicted values:\\n{y_preds}\")"
   ],
   "metadata": {
    "collapsed": false
   }
  },
  {
   "cell_type": "code",
   "execution_count": 12,
   "outputs": [
    {
     "data": {
      "text/plain": "<Figure size 1000x700 with 1 Axes>",
      "image/png": "[encoded data removed]"
     },
     "metadata": {},
     "output_type": "display_data"
    }
   ],
   "source": [
    "plot_predictions(predictions=y_preds)"
   ],
   "metadata": {
    "collapsed": false
   }
  },
  {
   "cell_type": "code",
   "execution_count": 13,
   "outputs": [],
   "source": [
    "# Create the loss function\n",
    "loss_fn = nn.L1Loss() # MAE loss is same as L1Loss\n",
    "\n",
    "# Create the optimizer\n",
    "optimizer = torch.optim.SGD(params=model_0.parameters(), # parameters of target model to optimize\n",
    "                            lr=0.01) # learning rate (how much the optimizer should change parameters at each step, higher=more (less stable), lower=less (might take a long time))"
   ],
   "metadata": {
    "collapsed": false
   }
  },
  {
   "cell_type": "code",
   "execution_count": 21,
   "outputs": [
    {
     "name": "stdout",
     "output_type": "stream",
     "text": [
      "Epoch: 0 | MAE Train Loss: 0.015869809314608574 | MAE Test Loss: 0.036034006625413895 \n",
      "Epoch: 10 | MAE Train Loss: 0.012440136633813381 | MAE Test Loss: 0.028448332101106644 \n",
      "Epoch: 20 | MAE Train Loss: 0.009004993364214897 | MAE Test Loss: 0.020175790414214134 \n",
      "Epoch: 30 | MAE Train Loss: 0.005566637497395277 | MAE Test Loss: 0.012590140104293823 \n",
      "Epoch: 40 | MAE Train Loss: 0.0022456401493400335 | MAE Test Loss: 0.002381563186645508 \n",
      "Epoch: 50 | MAE Train Loss: 0.003948968835175037 | MAE Test Loss: 0.004921931307762861 \n",
      "Epoch: 60 | MAE Train Loss: 0.003948968835175037 | MAE Test Loss: 0.004921931307762861 \n",
      "Epoch: 70 | MAE Train Loss: 0.003948968835175037 | MAE Test Loss: 0.004921931307762861 \n",
      "Epoch: 80 | MAE Train Loss: 0.003948968835175037 | MAE Test Loss: 0.004921931307762861 \n",
      "Epoch: 90 | MAE Train Loss: 0.003948968835175037 | MAE Test Loss: 0.004921931307762861 \n",
      "Epoch: 100 | MAE Train Loss: 0.003948968835175037 | MAE Test Loss: 0.004921931307762861 \n",
      "Epoch: 110 | MAE Train Loss: 0.003948968835175037 | MAE Test Loss: 0.004921931307762861 \n",
      "Epoch: 120 | MAE Train Loss: 0.003948968835175037 | MAE Test Loss: 0.004921931307762861 \n",
      "Epoch: 130 | MAE Train Loss: 0.003948968835175037 | MAE Test Loss: 0.004921931307762861 \n",
      "Epoch: 140 | MAE Train Loss: 0.003948968835175037 | MAE Test Loss: 0.004921931307762861 \n",
      "Epoch: 150 | MAE Train Loss: 0.003948968835175037 | MAE Test Loss: 0.004921931307762861 \n",
      "Epoch: 160 | MAE Train Loss: 0.003948968835175037 | MAE Test Loss: 0.004921931307762861 \n",
      "Epoch: 170 | MAE Train Loss: 0.003948968835175037 | MAE Test Loss: 0.004921931307762861 \n",
      "Epoch: 180 | MAE Train Loss: 0.003948968835175037 | MAE Test Loss: 0.004921931307762861 \n",
      "Epoch: 190 | MAE Train Loss: 0.003948968835175037 | MAE Test Loss: 0.004921931307762861 \n",
      "Epoch: 200 | MAE Train Loss: 0.003948968835175037 | MAE Test Loss: 0.004921931307762861 \n",
      "Epoch: 210 | MAE Train Loss: 0.003948968835175037 | MAE Test Loss: 0.004921931307762861 \n",
      "Epoch: 220 | MAE Train Loss: 0.003948968835175037 | MAE Test Loss: 0.004921931307762861 \n",
      "Epoch: 230 | MAE Train Loss: 0.003948968835175037 | MAE Test Loss: 0.004921931307762861 \n",
      "Epoch: 240 | MAE Train Loss: 0.003948968835175037 | MAE Test Loss: 0.004921931307762861 \n",
      "Epoch: 250 | MAE Train Loss: 0.003948968835175037 | MAE Test Loss: 0.004921931307762861 \n",
      "Epoch: 260 | MAE Train Loss: 0.003948968835175037 | MAE Test Loss: 0.004921931307762861 \n",
      "Epoch: 270 | MAE Train Loss: 0.003948968835175037 | MAE Test Loss: 0.004921931307762861 \n",
      "Epoch: 280 | MAE Train Loss: 0.003948968835175037 | MAE Test Loss: 0.004921931307762861 \n",
      "Epoch: 290 | MAE Train Loss: 0.003948968835175037 | MAE Test Loss: 0.004921931307762861 \n",
      "Epoch: 300 | MAE Train Loss: 0.003948968835175037 | MAE Test Loss: 0.004921931307762861 \n",
      "Epoch: 310 | MAE Train Loss: 0.003948968835175037 | MAE Test Loss: 0.004921931307762861 \n",
      "Epoch: 320 | MAE Train Loss: 0.003948968835175037 | MAE Test Loss: 0.004921931307762861 \n",
      "Epoch: 330 | MAE Train Loss: 0.003948968835175037 | MAE Test Loss: 0.004921931307762861 \n",
      "Epoch: 340 | MAE Train Loss: 0.003948968835175037 | MAE Test Loss: 0.004921931307762861 \n",
      "Epoch: 350 | MAE Train Loss: 0.003948968835175037 | MAE Test Loss: 0.004921931307762861 \n",
      "Epoch: 360 | MAE Train Loss: 0.003948968835175037 | MAE Test Loss: 0.004921931307762861 \n",
      "Epoch: 370 | MAE Train Loss: 0.003948968835175037 | MAE Test Loss: 0.004921931307762861 \n",
      "Epoch: 380 | MAE Train Loss: 0.003948968835175037 | MAE Test Loss: 0.004921931307762861 \n",
      "Epoch: 390 | MAE Train Loss: 0.003948968835175037 | MAE Test Loss: 0.004921931307762861 \n",
      "Epoch: 400 | MAE Train Loss: 0.003948968835175037 | MAE Test Loss: 0.004921931307762861 \n",
      "Epoch: 410 | MAE Train Loss: 0.003948968835175037 | MAE Test Loss: 0.004921931307762861 \n",
      "Epoch: 420 | MAE Train Loss: 0.003948968835175037 | MAE Test Loss: 0.004921931307762861 \n",
      "Epoch: 430 | MAE Train Loss: 0.003948968835175037 | MAE Test Loss: 0.004921931307762861 \n",
      "Epoch: 440 | MAE Train Loss: 0.003948968835175037 | MAE Test Loss: 0.004921931307762861 \n",
      "Epoch: 450 | MAE Train Loss: 0.003948968835175037 | MAE Test Loss: 0.004921931307762861 \n",
      "Epoch: 460 | MAE Train Loss: 0.003948968835175037 | MAE Test Loss: 0.004921931307762861 \n",
      "Epoch: 470 | MAE Train Loss: 0.003948968835175037 | MAE Test Loss: 0.004921931307762861 \n",
      "Epoch: 480 | MAE Train Loss: 0.003948968835175037 | MAE Test Loss: 0.004921931307762861 \n",
      "Epoch: 490 | MAE Train Loss: 0.003948968835175037 | MAE Test Loss: 0.004921931307762861 \n",
      "Epoch: 500 | MAE Train Loss: 0.003948968835175037 | MAE Test Loss: 0.004921931307762861 \n",
      "Epoch: 510 | MAE Train Loss: 0.003948968835175037 | MAE Test Loss: 0.004921931307762861 \n",
      "Epoch: 520 | MAE Train Loss: 0.003948968835175037 | MAE Test Loss: 0.004921931307762861 \n",
      "Epoch: 530 | MAE Train Loss: 0.003948968835175037 | MAE Test Loss: 0.004921931307762861 \n",
      "Epoch: 540 | MAE Train Loss: 0.003948968835175037 | MAE Test Loss: 0.004921931307762861 \n",
      "Epoch: 550 | MAE Train Loss: 0.003948968835175037 | MAE Test Loss: 0.004921931307762861 \n",
      "Epoch: 560 | MAE Train Loss: 0.003948968835175037 | MAE Test Loss: 0.004921931307762861 \n",
      "Epoch: 570 | MAE Train Loss: 0.003948968835175037 | MAE Test Loss: 0.004921931307762861 \n",
      "Epoch: 580 | MAE Train Loss: 0.003948968835175037 | MAE Test Loss: 0.004921931307762861 \n",
      "Epoch: 590 | MAE Train Loss: 0.003948968835175037 | MAE Test Loss: 0.004921931307762861 \n",
      "Epoch: 600 | MAE Train Loss: 0.003948968835175037 | MAE Test Loss: 0.004921931307762861 \n",
      "Epoch: 610 | MAE Train Loss: 0.003948968835175037 | MAE Test Loss: 0.004921931307762861 \n",
      "Epoch: 620 | MAE Train Loss: 0.003948968835175037 | MAE Test Loss: 0.004921931307762861 \n",
      "Epoch: 630 | MAE Train Loss: 0.003948968835175037 | MAE Test Loss: 0.004921931307762861 \n",
      "Epoch: 640 | MAE Train Loss: 0.003948968835175037 | MAE Test Loss: 0.004921931307762861 \n",
      "Epoch: 650 | MAE Train Loss: 0.003948968835175037 | MAE Test Loss: 0.004921931307762861 \n",
      "Epoch: 660 | MAE Train Loss: 0.003948968835175037 | MAE Test Loss: 0.004921931307762861 \n",
      "Epoch: 670 | MAE Train Loss: 0.003948968835175037 | MAE Test Loss: 0.004921931307762861 \n",
      "Epoch: 680 | MAE Train Loss: 0.003948968835175037 | MAE Test Loss: 0.004921931307762861 \n",
      "Epoch: 690 | MAE Train Loss: 0.003948968835175037 | MAE Test Loss: 0.004921931307762861 \n",
      "Epoch: 700 | MAE Train Loss: 0.003948968835175037 | MAE Test Loss: 0.004921931307762861 \n",
      "Epoch: 710 | MAE Train Loss: 0.003948968835175037 | MAE Test Loss: 0.004921931307762861 \n",
      "Epoch: 720 | MAE Train Loss: 0.003948968835175037 | MAE Test Loss: 0.004921931307762861 \n",
      "Epoch: 730 | MAE Train Loss: 0.003948968835175037 | MAE Test Loss: 0.004921931307762861 \n",
      "Epoch: 740 | MAE Train Loss: 0.003948968835175037 | MAE Test Loss: 0.004921931307762861 \n",
      "Epoch: 750 | MAE Train Loss: 0.003948968835175037 | MAE Test Loss: 0.004921931307762861 \n",
      "Epoch: 760 | MAE Train Loss: 0.003948968835175037 | MAE Test Loss: 0.004921931307762861 \n",
      "Epoch: 770 | MAE Train Loss: 0.003948968835175037 | MAE Test Loss: 0.004921931307762861 \n",
      "Epoch: 780 | MAE Train Loss: 0.003948968835175037 | MAE Test Loss: 0.004921931307762861 \n",
      "Epoch: 790 | MAE Train Loss: 0.003948968835175037 | MAE Test Loss: 0.004921931307762861 \n"
     ]
    }
   ],
   "source": [
    "torch.manual_seed(42)\n",
    "\n",
    "# Set the number of epochs (how many times the model will pass over the training data)\n",
    "epochs = 150\n",
    "\n",
    "# Create empty loss lists to track values\n",
    "train_loss_values = []\n",
    "test_loss_values = []\n",
    "epoch_count = []\n",
    "\n",
    "for epoch in range(epochs):\n",
    "    ### Training\n",
    "\n",
    "    # Put model in training mode (this is the default state of a model)\n",
    "    model_0.train()\n",
    "\n",
    "    # 1. Forward pass on train data using the forward() method inside\n",
    "    y_pred = model_0(X_train)\n",
    "    # print(y_pred)\n",
    "\n",
    "    # 2. Calculate the loss (how different are our models predictions to the ground truth)\n",
    "    loss = loss_fn(y_pred, y_train)\n",
    "\n",
    "    # 3. Zero grad of the optimizer\n",
    "    optimizer.zero_grad()\n",
    "\n",
    "    # 4. Loss backwards\n",
    "    loss.backward()\n",
    "\n",
    "    # 5. Progress the optimizer\n",
    "    optimizer.step()\n",
    "\n",
    "    ### Testing\n",
    "\n",
    "    # Put the model in evaluation mode\n",
    "    model_0.eval()\n",
    "\n",
    "    with torch.inference_mode():\n",
    "      # 1. Forward pass on test data\n",
    "      test_pred = model_0(X_test)\n",
    "\n",
    "      # 2. Caculate loss on test data\n",
    "      test_loss = loss_fn(test_pred, y_test.type(torch.float)) # predictions come in torch.float datatype, so comparisons need to be done with tensors of the same type\n",
    "\n",
    "      # Print out what's happening\n",
    "      if epoch % 10 == 0:\n",
    "            epoch_count.append(epoch)\n",
    "            #set GPU tensors back to CPU for numpy\n",
    "            loss, test_loss = loss.cpu(), test_loss.cpu()\n",
    "            train_loss_values.append(loss.detach().numpy())\n",
    "            test_loss_values.append(test_loss.detach().numpy())\n",
    "            print(f\"Epoch: {epoch} | MAE Train Loss: {loss} | MAE Test Loss: {test_loss} \")"
   ],
   "metadata": {
    "collapsed": false
   }
  },
  {
   "cell_type": "code",
   "execution_count": 22,
   "outputs": [
    {
     "data": {
      "text/plain": "<Figure size 640x480 with 1 Axes>",
      "image/png": "[encoded data removed]"
     },
     "metadata": {},
     "output_type": "display_data"
    }
   ],
   "source": [
    "# Plot the loss curves\n",
    "plt.plot(epoch_count, train_loss_values, label=\"Train loss\")\n",
    "plt.plot(epoch_count, test_loss_values, label=\"Test loss\")\n",
    "plt.title(\"Training and test loss curves\")\n",
    "plt.ylabel(\"Loss\")\n",
    "plt.xlabel(\"Epochs\")\n",
    "plt.legend();"
   ],
   "metadata": {
    "collapsed": false
   }
  },
  {
   "cell_type": "code",
   "execution_count": 23,
   "outputs": [
    {
     "name": "stdout",
     "output_type": "stream",
     "text": [
      "The model learned the following values for weights and bias:\n",
      "OrderedDict([('weights', tensor([0.6908], device='cuda:0')), ('bias', tensor([0.2996], device='cuda:0'))])\n",
      "\n",
      "And the original values for weights and bias are:\n",
      "weights: 0.7, bias: 0.3\n"
     ]
    }
   ],
   "source": [
    "# Find our model's learned parameters\n",
    "print(\"The model learned the following values for weights and bias:\")\n",
    "print(model_0.state_dict())\n",
    "print(\"\\nAnd the original values for weights and bias are:\")\n",
    "print(f\"weights: {weight}, bias: {bias}\")"
   ],
   "metadata": {
    "collapsed": false
   }
  },
  {
   "cell_type": "code",
   "execution_count": 24,
   "outputs": [
    {
     "data": {
      "text/plain": "tensor([[0.8523],\n        [0.8661],\n        [0.8799],\n        [0.8937],\n        [0.9075],\n        [0.9214],\n        [0.9352],\n        [0.9490],\n        [0.9628],\n        [0.9766]], device='cuda:0')"
     },
     "execution_count": 24,
     "metadata": {},
     "output_type": "execute_result"
    }
   ],
   "source": [
    "# 1. Set the model in evaluation mode\n",
    "model_0.eval()\n",
    "\n",
    "# 2. Setup the inference mode context manager\n",
    "with torch.inference_mode():\n",
    "  # 3. Make sure the calculations are done with the model and data on the same device\n",
    "  # in our case, we haven't setup device-agnostic code yet so our data and model are\n",
    "  # on the CPU by default.\n",
    "  # model_0.to(device)\n",
    "  # X_test = X_test.to(device)\n",
    "  y_preds = model_0(X_test)\n",
    "y_preds"
   ],
   "metadata": {
    "collapsed": false
   }
  },
  {
   "cell_type": "code",
   "execution_count": 25,
   "outputs": [
    {
     "data": {
      "text/plain": "<Figure size 1000x700 with 1 Axes>",
      "image/png": "[encoded data removed]"
     },
     "metadata": {},
     "output_type": "display_data"
    }
   ],
   "source": [
    "plot_predictions(predictions=y_preds)"
   ],
   "metadata": {
    "collapsed": false
   }
  },
  {
   "cell_type": "markdown",
   "source": [
    "### Save the model by saving its state_dict."
   ],
   "metadata": {
    "collapsed": false
   }
  },
  {
   "cell_type": "code",
   "execution_count": 29,
   "outputs": [
    {
     "name": "stdout",
     "output_type": "stream",
     "text": [
      "Saving model to: models\\01_pytorch_workflow_model_0.pth\n"
     ]
    }
   ],
   "source": [
    "from pathlib import Path\n",
    "\n",
    "# 1. Create models directory\n",
    "MODEL_PATH = Path(\"models\")\n",
    "MODEL_PATH.mkdir(parents=True, exist_ok=True)\n",
    "\n",
    "# 2. Create model save path\n",
    "MODEL_NAME = \"01_pytorch_workflow_model_0.pth\"\n",
    "MODEL_SAVE_PATH = MODEL_PATH / MODEL_NAME\n",
    "\n",
    "# 3. Save the model state dict\n",
    "print(f\"Saving model to: {MODEL_SAVE_PATH}\")\n",
    "torch.save(obj=model_0.state_dict(), # only saving the state_dict() only saves the models learned parameters\n",
    "           f=MODEL_SAVE_PATH)"
   ],
   "metadata": {
    "collapsed": false
   }
  },
  {
   "cell_type": "markdown",
   "source": [
    "### Create instance of new model and load parameters from previous save"
   ],
   "metadata": {
    "collapsed": false
   }
  },
  {
   "cell_type": "code",
   "execution_count": 35,
   "outputs": [
    {
     "data": {
      "text/plain": "<All keys matched successfully>"
     },
     "execution_count": 35,
     "metadata": {},
     "output_type": "execute_result"
    }
   ],
   "source": [
    "# Instantiate a new instance of our model (this will be instantiated with random weights)\n",
    "loaded_model_0 = LinearRegressionModel()\n",
    "\n",
    "# Load the state_dict of our saved model (this will update the new instance of our model with trained weights)\n",
    "loaded_model_0.load_state_dict(torch.load(f=MODEL_SAVE_PATH))"
   ],
   "metadata": {
    "collapsed": false
   }
  },
  {
   "cell_type": "markdown",
   "source": [
    "### Use saved model to make predictions"
   ],
   "metadata": {
    "collapsed": false
   }
  },
  {
   "cell_type": "code",
   "execution_count": 38,
   "outputs": [],
   "source": [
    "# 1. Put the loaded model into evaluation mode\n",
    "loaded_model_0.eval()\n",
    "\n",
    "# 2. Use the inference mode context manager to make predictions\n",
    "with torch.inference_mode():\n",
    "    loaded_model_preds = loaded_model_0(X_test) # perform a forward pass on the test data with the loaded model"
   ],
   "metadata": {
    "collapsed": false
   }
  },
  {
   "cell_type": "markdown",
   "source": [
    "### Check if new predictions match the shit"
   ],
   "metadata": {
    "collapsed": false
   }
  },
  {
   "cell_type": "code",
   "execution_count": 39,
   "outputs": [
    {
     "data": {
      "text/plain": "tensor([[True],\n        [True],\n        [True],\n        [True],\n        [True],\n        [True],\n        [True],\n        [True],\n        [True],\n        [True]], device='cuda:0')"
     },
     "execution_count": 39,
     "metadata": {},
     "output_type": "execute_result"
    }
   ],
   "source": [
    "# Compare previous model predictions with loaded model predictions (these should be the same)\n",
    "y_preds == loaded_model_preds"
   ],
   "metadata": {
    "collapsed": false
   }
  }
 ],
 "metadata": {
  "kernelspec": {
   "display_name": "Python 3",
   "language": "python",
   "name": "python3"
  },
  "language_info": {
   "codemirror_mode": {
    "name": "ipython",
    "version": 2
   },
   "file_extension": ".py",
   "mimetype": "text/x-python",
   "name": "python",
   "nbconvert_exporter": "python",
   "pygments_lexer": "ipython2",
   "version": "2.7.6"
  }
 },
 "nbformat": 4,
 "nbformat_minor": 0
}
