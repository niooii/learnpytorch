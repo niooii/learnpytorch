{
 "nbformat": 4,
 "nbformat_minor": 0,
 "metadata": {
  "colab": {
   "name": "01_pytorch_workflow_exercises.ipynb",
   "provenance": [],
   "collapsed_sections": [],
   "authorship_tag": "ABX9TyNYzatJtFkfUqqdiR6rYwVL",
   "include_colab_link": true
  },
  "kernelspec": {
   "name": "python3",
   "display_name": "Python 3"
  },
  "language_info": {
   "name": "python"
  },
  "accelerator": "GPU"
 },
 "cells": [
  {
   "cell_type": "markdown",
   "metadata": {
    "id": "view-in-github",
    "colab_type": "text"
   },
   "source": [
    "  <a href=\"https://colab.research.google.com/github/mrdbourke/pytorch-deep-learning/blob/main/extras/exercises/01_pytorch_workflow_exercises.ipynb\" target=\"_parent\"><img src=\"https://colab.research.google.com/assets/colab-badge.svg\" alt=\"Open In Colab\"/></a>"
   ]
  },
  {
   "cell_type": "markdown",
   "source": [
    "# 01. PyTorch Workflow Exercise Template\n",
    "\n",
    "The following is a template for the PyTorch workflow exercises.\n",
    "\n",
    "It's only starter code and it's your job to fill in the blanks.\n",
    "\n",
    "Because of the flexibility of PyTorch, there may be more than one way to answer the question.\n",
    "\n",
    "Don't worry about trying to be *right* just try writing code that suffices the question.\n",
    "\n",
    "You can see one form of [solutions on GitHub](https://github.com/mrdbourke/pytorch-deep-learning/tree/main/extras/solutions) (but try the exercises below yourself first!)."
   ],
   "metadata": {
    "id": "N8LsPXZti9Sw"
   }
  },
  {
   "cell_type": "code",
   "source": [
    "# Import necessary libraries\n",
    "import torch\n",
    "from torch import nn # nn contains all of PyTorch's building blocks for neural networks\n",
    "import numpy as np\n",
    "import matplotlib.pyplot as plt"
   ],
   "metadata": {
    "id": "Glu2fM4dkNlx"
   },
   "execution_count": 1,
   "outputs": []
  },
  {
   "cell_type": "code",
   "source": [
    "# Setup device-agnostic code\n",
    "device = torch.device(\"cuda\" if torch.cuda.is_available() else \"cpu\")\n",
    "torch.set_default_device(device)"
   ],
   "metadata": {
    "id": "LqKhXY26m31s"
   },
   "execution_count": 2,
   "outputs": []
  },
  {
   "cell_type": "markdown",
   "source": [
    "## 1. Create a straight line dataset using the linear regression formula (`weight * X + bias`).\n",
    "  * Set `weight=0.3` and `bias=0.9` there should be at least 100 datapoints total. \n",
    "  * Split the data into 80% training, 20% testing.\n",
    "  * Plot the training and testing data so it becomes visual.\n",
    "\n",
    "Your output of the below cell should look something like:\n",
    "```\n",
    "Number of X samples: 100\n",
    "Number of y samples: 100\n",
    "First 10 X & y samples:\n",
    "X: tensor([0.0000, 0.0100, 0.0200, 0.0300, 0.0400, 0.0500, 0.0600, 0.0700, 0.0800,\n",
    "        0.0900])\n",
    "y: tensor([0.9000, 0.9030, 0.9060, 0.9090, 0.9120, 0.9150, 0.9180, 0.9210, 0.9240,\n",
    "        0.9270])\n",
    "```\n",
    "\n",
    "Of course the numbers in `X` and `y` may be different but ideally they're created using the linear regression formula."
   ],
   "metadata": {
    "id": "g7HUhxCxjeBx"
   }
  },
  {
   "cell_type": "code",
   "source": [
    "# Create the data parameters\n",
    "weight = 0.3\n",
    "bias = 0.9\n",
    "\n",
    "start = 0\n",
    "end = 2\n",
    "step = 0.02\n",
    "\n",
    "# Make X and y using linear regression feature\n",
    "X = torch.arange(start, end, step).reshape(100, 1)\n",
    "y = weight * X + bias\n",
    "print(X.shape)\n",
    "print(f\"Number of X samples: {len(X)}\")\n",
    "print(f\"Number of y samples: {len(y)}\")\n",
    "print(f\"First 10 X & y samples:\\nX: {X[:10]}\\ny: {y[:10]}\")"
   ],
   "metadata": {
    "id": "KbDG5MV7jhvE"
   },
   "execution_count": 3,
   "outputs": [
    {
     "name": "stdout",
     "output_type": "stream",
     "text": [
      "torch.Size([100, 1])\n",
      "Number of X samples: 100\n",
      "Number of y samples: 100\n",
      "First 10 X & y samples:\n",
      "X: tensor([[0.0000],\n",
      "        [0.0200],\n",
      "        [0.0400],\n",
      "        [0.0600],\n",
      "        [0.0800],\n",
      "        [0.1000],\n",
      "        [0.1200],\n",
      "        [0.1400],\n",
      "        [0.1600],\n",
      "        [0.1800]], device='cuda:0')\n",
      "y: tensor([[0.9000],\n",
      "        [0.9060],\n",
      "        [0.9120],\n",
      "        [0.9180],\n",
      "        [0.9240],\n",
      "        [0.9300],\n",
      "        [0.9360],\n",
      "        [0.9420],\n",
      "        [0.9480],\n",
      "        [0.9540]], device='cuda:0')\n"
     ]
    }
   ]
  },
  {
   "cell_type": "code",
   "source": [
    "# Split the data into training and testing\n",
    "split = int(0.8 * len(X))\n",
    "X_train, X_test = X[:split], X[split:]\n",
    "y_train, y_test = y[:split], y[split:]\n",
    "print(X_train.shape)"
   ],
   "metadata": {
    "id": "GlwtT1djkmLw"
   },
   "execution_count": 4,
   "outputs": [
    {
     "name": "stdout",
     "output_type": "stream",
     "text": [
      "torch.Size([80, 1])\n"
     ]
    }
   ]
  },
  {
   "cell_type": "code",
   "source": [
    "# Plot the training and testing data\n",
    "def plotData(*other_data,\n",
    "             train_data=X_train,\n",
    "             train_labels=y_train,\n",
    "             test_data=X_test,\n",
    "             test_labels=y_test,\n",
    "             predictions=None,\n",
    "             ):\n",
    "  plt.figure(figsize=(10, 7))\n",
    "\n",
    "  train_data, train_labels, test_data, test_labels, predictions = train_data.cpu(), train_labels.cpu(), test_data.cpu(), test_labels.cpu(), (predictions.cpu() if predictions is not None else print(\"predictions not intialized\"))\n",
    "\n",
    "  # Plot training data in blue\n",
    "  plt.scatter(train_data, train_labels, c=\"b\", s=4, label=\"Training data\")\n",
    "\n",
    "  # Plot test data in green\n",
    "  plt.scatter(test_data, test_labels, c=\"g\", s=4, label=\"Testing data\")\n",
    "\n",
    "  if predictions is not None:\n",
    "    # Plot the predictions in red (predictions were made on the test data)\n",
    "    plt.scatter(test_data, predictions, c=\"r\", s=4, label=\"Predictions\")\n",
    "  if other_data is not None:\n",
    "    for i in range(len(other_data)):\n",
    "      plt.scatter(other_data[i][0], other_data[i][1], c=\"c\", s=4, label=\"Other tests\")\n",
    "\n",
    "  # Show the legend\n",
    "  plt.legend(prop={\"size\": 14});\n",
    "\n",
    "plotData()"
   ],
   "metadata": {
    "id": "29iQZFNhlYJ-"
   },
   "execution_count": 5,
   "outputs": [
    {
     "name": "stdout",
     "output_type": "stream",
     "text": [
      "predictions not intialized\n"
     ]
    },
    {
     "data": {
      "text/plain": "<Figure size 1000x700 with 1 Axes>",
      "image/png": "[encoded data removed]"
     },
     "metadata": {},
     "output_type": "display_data"
    }
   ]
  },
  {
   "cell_type": "markdown",
   "source": [
    "## 2. Build a PyTorch model by subclassing `nn.Module`. \n",
    "  * Inside should be a randomly initialized `nn.Parameter()` with `requires_grad=True`, one for `weights` and one for `bias`. \n",
    "  * Implement the `forward()` method to compute the linear regression function you used to create the dataset in 1. \n",
    "  * Once you've constructed the model, make an instance of it and check its `state_dict()`.\n",
    "  * **Note:** If you'd like to use `nn.Linear()` instead of `nn.Parameter()` you can."
   ],
   "metadata": {
    "id": "ImZoe3v8jif8"
   }
  },
  {
   "cell_type": "code",
   "source": [
    "# Create PyTorch linear regression model by subclassing nn.Module\n",
    "class LinearRegModel(nn.Module):\n",
    "  def __init__(self):\n",
    "    super().__init__()\n",
    "    self.linear_layer = nn.Linear(in_features=1, out_features=1)\n",
    "\n",
    "  def forward(self, x: torch.Tensor) -> torch.Tensor:\n",
    "    return self.linear_layer(x) #literally just y=mx+b"
   ],
   "metadata": {
    "id": "qzd__Y5rjtB8"
   },
   "execution_count": 6,
   "outputs": []
  },
  {
   "cell_type": "code",
   "source": [
    "# Instantiate the model and put it to the target device\n",
    "model = LinearRegModel()\n",
    "model"
   ],
   "metadata": {
    "id": "5LdcDnmOmyQ2"
   },
   "execution_count": 7,
   "outputs": [
    {
     "data": {
      "text/plain": "LinearRegModel(\n  (linear_layer): Linear(in_features=1, out_features=1, bias=True)\n)"
     },
     "execution_count": 7,
     "metadata": {},
     "output_type": "execute_result"
    }
   ]
  },
  {
   "cell_type": "markdown",
   "source": [
    "## 3. Create a loss function and optimizer using `nn.L1Loss()` and `torch.optim.SGD(params, lr)` respectively. \n",
    "  * Set the learning rate of the optimizer to be 0.01 and the parameters to optimize should be the model parameters from the model you created in 2.\n",
    "  * Write a training loop to perform the appropriate training steps for 300 epochs.\n",
    "  * The training loop should test the model on the test dataset every 20 epochs."
   ],
   "metadata": {
    "id": "G6nYOrJhjtfu"
   }
  },
  {
   "cell_type": "code",
   "source": [
    "# Create the loss function and optimizer\n",
    "loss_func = nn.L1Loss()\n",
    "optimizer = torch.optim.SGD(params=model.parameters(), lr=0.001)"
   ],
   "metadata": {
    "id": "ltvoZ-FWjv1j"
   },
   "execution_count": 8,
   "outputs": []
  },
  {
   "cell_type": "code",
   "source": [
    "# Training loop\n",
    "epochs = 3000\n",
    "\n",
    "# empty lists to track values\n",
    "train_loss_values = []\n",
    "test_loss_values = []\n",
    "epoch_count = []\n",
    "\n",
    "# Send data to target device\n",
    "\n",
    "\n",
    "for epoch in range(epochs):\n",
    "  ### Training\n",
    "\n",
    "  # Put model in train mode\n",
    "  model.train()\n",
    "\n",
    "  # 1. Forward pass\n",
    "  y_predictions = model(X_train)\n",
    "\n",
    "  # 2. Calculate loss\n",
    "  loss = loss_func(y_predictions, y_train)\n",
    "\n",
    "  # 3. Zero gradients\n",
    "  optimizer.zero_grad()\n",
    "\n",
    "  # 4. Backpropagation\n",
    "  loss.backward()\n",
    "\n",
    "  # 5. Step the optimizer\n",
    "  optimizer.step()\n",
    "\n",
    "  ### Perform testing every 20 epochs\n",
    "  if epoch % 10 == 0:\n",
    "    epoch_count.append(epoch)\n",
    "    # Put model in evaluation mode and setup inference context\n",
    "    model.eval()\n",
    "      # 1. Forward pass\n",
    "    with torch.inference_mode():\n",
    "        test_predictions = model(X_test)\n",
    "      # 2. Calculate test loss\n",
    "        test_loss = loss_func(test_predictions, y_test)\n",
    "        #set GPU tensors back to CPU for numpy\n",
    "    loss1, test_loss1 = loss.cpu(), test_loss.cpu()\n",
    "    train_loss_values.append(loss1.detach().numpy())\n",
    "    test_loss_values.append(test_loss1.detach().numpy())\n",
    "      # Print out what's happening\n",
    "    print(f\"Epoch: {epoch} | Train loss: {loss:.8f} | Test loss: {test_loss:.8f}\")"
   ],
   "metadata": {
    "id": "xpE83NvNnkdV"
   },
   "execution_count": 9,
   "outputs": [
    {
     "name": "stdout",
     "output_type": "stream",
     "text": [
      "Epoch: 0 | Train loss: 1.41326404 | Test loss: 2.34449697\n",
      "Epoch: 10 | Train loss: 1.39702320 | Test loss: 2.32035613\n",
      "Epoch: 20 | Train loss: 1.38078213 | Test loss: 2.29621506\n",
      "Epoch: 30 | Train loss: 1.36454105 | Test loss: 2.27207398\n",
      "Epoch: 40 | Train loss: 1.34830034 | Test loss: 2.24793315\n",
      "Epoch: 50 | Train loss: 1.33205938 | Test loss: 2.22379231\n",
      "Epoch: 60 | Train loss: 1.31581855 | Test loss: 2.19965148\n",
      "Epoch: 70 | Train loss: 1.29957771 | Test loss: 2.17551041\n",
      "Epoch: 80 | Train loss: 1.28333688 | Test loss: 2.15136957\n",
      "Epoch: 90 | Train loss: 1.26709592 | Test loss: 2.12722874\n",
      "Epoch: 100 | Train loss: 1.25085497 | Test loss: 2.10308814\n",
      "Epoch: 110 | Train loss: 1.23461425 | Test loss: 2.07894707\n",
      "Epoch: 120 | Train loss: 1.21837330 | Test loss: 2.05480623\n",
      "Epoch: 130 | Train loss: 1.20213246 | Test loss: 2.03066516\n",
      "Epoch: 140 | Train loss: 1.18589151 | Test loss: 2.00652480\n",
      "Epoch: 150 | Train loss: 1.16965067 | Test loss: 1.98238361\n",
      "Epoch: 160 | Train loss: 1.15340984 | Test loss: 1.95824265\n",
      "Epoch: 170 | Train loss: 1.13716888 | Test loss: 1.93410194\n",
      "Epoch: 180 | Train loss: 1.12092817 | Test loss: 1.90996099\n",
      "Epoch: 190 | Train loss: 1.10468721 | Test loss: 1.88582003\n",
      "Epoch: 200 | Train loss: 1.08844638 | Test loss: 1.86167908\n",
      "Epoch: 210 | Train loss: 1.07220542 | Test loss: 1.83753812\n",
      "Epoch: 220 | Train loss: 1.05596459 | Test loss: 1.81339765\n",
      "Epoch: 230 | Train loss: 1.03972375 | Test loss: 1.78925669\n",
      "Epoch: 240 | Train loss: 1.02348292 | Test loss: 1.76511574\n",
      "Epoch: 250 | Train loss: 1.00724208 | Test loss: 1.74097478\n",
      "Epoch: 260 | Train loss: 0.99100113 | Test loss: 1.71683395\n",
      "Epoch: 270 | Train loss: 0.97476023 | Test loss: 1.69269300\n",
      "Epoch: 280 | Train loss: 0.95851940 | Test loss: 1.66855204\n",
      "Epoch: 290 | Train loss: 0.94227839 | Test loss: 1.64441133\n",
      "Epoch: 300 | Train loss: 0.92603761 | Test loss: 1.62027061\n",
      "Epoch: 310 | Train loss: 0.90979671 | Test loss: 1.59612966\n",
      "Epoch: 320 | Train loss: 0.89355582 | Test loss: 1.57198882\n",
      "Epoch: 330 | Train loss: 0.87731498 | Test loss: 1.54784799\n",
      "Epoch: 340 | Train loss: 0.86107409 | Test loss: 1.52370691\n",
      "Epoch: 350 | Train loss: 0.84483320 | Test loss: 1.49956608\n",
      "Epoch: 360 | Train loss: 0.82859230 | Test loss: 1.47542524\n",
      "Epoch: 370 | Train loss: 0.81235141 | Test loss: 1.45128441\n",
      "Epoch: 380 | Train loss: 0.79611063 | Test loss: 1.42714345\n",
      "Epoch: 390 | Train loss: 0.77986974 | Test loss: 1.40300262\n",
      "Epoch: 400 | Train loss: 0.76362884 | Test loss: 1.37886178\n",
      "Epoch: 410 | Train loss: 0.74738806 | Test loss: 1.35472083\n",
      "Epoch: 420 | Train loss: 0.73114717 | Test loss: 1.33058012\n",
      "Epoch: 430 | Train loss: 0.71490622 | Test loss: 1.30643916\n",
      "Epoch: 440 | Train loss: 0.69866538 | Test loss: 1.28229833\n",
      "Epoch: 450 | Train loss: 0.68242455 | Test loss: 1.25815749\n",
      "Epoch: 460 | Train loss: 0.66618365 | Test loss: 1.23401666\n",
      "Epoch: 470 | Train loss: 0.64994282 | Test loss: 1.20987570\n",
      "Epoch: 480 | Train loss: 0.63370192 | Test loss: 1.18573475\n",
      "Epoch: 490 | Train loss: 0.61746103 | Test loss: 1.16159391\n",
      "Epoch: 500 | Train loss: 0.60122013 | Test loss: 1.13745308\n",
      "Epoch: 510 | Train loss: 0.58497930 | Test loss: 1.11331224\n",
      "Epoch: 520 | Train loss: 0.56873840 | Test loss: 1.08917129\n",
      "Epoch: 530 | Train loss: 0.55249757 | Test loss: 1.06503046\n",
      "Epoch: 540 | Train loss: 0.53625673 | Test loss: 1.04088962\n",
      "Epoch: 550 | Train loss: 0.52001584 | Test loss: 1.01674867\n",
      "Epoch: 560 | Train loss: 0.50377494 | Test loss: 0.99260789\n",
      "Epoch: 570 | Train loss: 0.48753405 | Test loss: 0.96846694\n",
      "Epoch: 580 | Train loss: 0.47129321 | Test loss: 0.94432604\n",
      "Epoch: 590 | Train loss: 0.45505235 | Test loss: 0.92018521\n",
      "Epoch: 600 | Train loss: 0.43881145 | Test loss: 0.89604437\n",
      "Epoch: 610 | Train loss: 0.42257062 | Test loss: 0.87190342\n",
      "Epoch: 620 | Train loss: 0.40632972 | Test loss: 0.84776258\n",
      "Epoch: 630 | Train loss: 0.39008883 | Test loss: 0.82362175\n",
      "Epoch: 640 | Train loss: 0.37384796 | Test loss: 0.79948092\n",
      "Epoch: 650 | Train loss: 0.35760710 | Test loss: 0.77534002\n",
      "Epoch: 660 | Train loss: 0.34136623 | Test loss: 0.75119913\n",
      "Epoch: 670 | Train loss: 0.32512537 | Test loss: 0.72705829\n",
      "Epoch: 680 | Train loss: 0.30908963 | Test loss: 0.70304221\n",
      "Epoch: 690 | Train loss: 0.29364201 | Test loss: 0.67933267\n",
      "Epoch: 700 | Train loss: 0.27878398 | Test loss: 0.65596932\n",
      "Epoch: 710 | Train loss: 0.26459453 | Test loss: 0.63296807\n",
      "Epoch: 720 | Train loss: 0.25097665 | Test loss: 0.61031383\n",
      "Epoch: 730 | Train loss: 0.23792517 | Test loss: 0.58801973\n",
      "Epoch: 740 | Train loss: 0.22548702 | Test loss: 0.56616235\n",
      "Epoch: 750 | Train loss: 0.21367100 | Test loss: 0.54472589\n",
      "Epoch: 760 | Train loss: 0.20242360 | Test loss: 0.52372551\n",
      "Epoch: 770 | Train loss: 0.19173558 | Test loss: 0.50317615\n",
      "Epoch: 780 | Train loss: 0.18167709 | Test loss: 0.48312965\n",
      "Epoch: 790 | Train loss: 0.17214090 | Test loss: 0.46352825\n",
      "Epoch: 800 | Train loss: 0.16318226 | Test loss: 0.44450161\n",
      "Epoch: 810 | Train loss: 0.15479748 | Test loss: 0.42598867\n",
      "Epoch: 820 | Train loss: 0.14692436 | Test loss: 0.40800467\n",
      "Epoch: 830 | Train loss: 0.13957910 | Test loss: 0.39060813\n",
      "Epoch: 840 | Train loss: 0.13276157 | Test loss: 0.37377149\n",
      "Epoch: 850 | Train loss: 0.12641715 | Test loss: 0.35751086\n",
      "Epoch: 860 | Train loss: 0.12057664 | Test loss: 0.34193334\n",
      "Epoch: 870 | Train loss: 0.11519309 | Test loss: 0.32691666\n",
      "Epoch: 880 | Train loss: 0.11023469 | Test loss: 0.31252250\n",
      "Epoch: 890 | Train loss: 0.10568180 | Test loss: 0.29876515\n",
      "Epoch: 900 | Train loss: 0.10155358 | Test loss: 0.28566059\n",
      "Epoch: 910 | Train loss: 0.09777915 | Test loss: 0.27317247\n",
      "Epoch: 920 | Train loss: 0.09434015 | Test loss: 0.26131240\n",
      "Epoch: 930 | Train loss: 0.09121753 | Test loss: 0.25009328\n",
      "Epoch: 940 | Train loss: 0.08838770 | Test loss: 0.23952889\n",
      "Epoch: 950 | Train loss: 0.08583416 | Test loss: 0.22957540\n",
      "Epoch: 960 | Train loss: 0.08350904 | Test loss: 0.22018726\n",
      "Epoch: 970 | Train loss: 0.08139337 | Test loss: 0.21137340\n",
      "Epoch: 980 | Train loss: 0.07946730 | Test loss: 0.20314267\n",
      "Epoch: 990 | Train loss: 0.07770222 | Test loss: 0.19544327\n",
      "Epoch: 1000 | Train loss: 0.07610222 | Test loss: 0.18828328\n",
      "Epoch: 1010 | Train loss: 0.07461488 | Test loss: 0.18160991\n",
      "Epoch: 1020 | Train loss: 0.07322421 | Test loss: 0.17536631\n",
      "Epoch: 1030 | Train loss: 0.07190945 | Test loss: 0.16949339\n",
      "Epoch: 1040 | Train loss: 0.07070737 | Test loss: 0.16418403\n",
      "Epoch: 1050 | Train loss: 0.06953939 | Test loss: 0.15912877\n",
      "Epoch: 1060 | Train loss: 0.06843446 | Test loss: 0.15445451\n",
      "Epoch: 1070 | Train loss: 0.06736413 | Test loss: 0.15010245\n",
      "Epoch: 1080 | Train loss: 0.06633757 | Test loss: 0.14607243\n",
      "Epoch: 1090 | Train loss: 0.06531727 | Test loss: 0.14217284\n",
      "Epoch: 1100 | Train loss: 0.06434977 | Test loss: 0.13879481\n",
      "Epoch: 1110 | Train loss: 0.06338226 | Test loss: 0.13541675\n",
      "Epoch: 1120 | Train loss: 0.06241477 | Test loss: 0.13203870\n",
      "Epoch: 1130 | Train loss: 0.06148281 | Test loss: 0.12932256\n",
      "Epoch: 1140 | Train loss: 0.06055405 | Test loss: 0.12660639\n",
      "Epoch: 1150 | Train loss: 0.05962529 | Test loss: 0.12389026\n",
      "Epoch: 1160 | Train loss: 0.05869652 | Test loss: 0.12117410\n",
      "Epoch: 1170 | Train loss: 0.05776776 | Test loss: 0.11845797\n",
      "Epoch: 1180 | Train loss: 0.05685401 | Test loss: 0.11634568\n",
      "Epoch: 1190 | Train loss: 0.05594318 | Test loss: 0.11430050\n",
      "Epoch: 1200 | Train loss: 0.05503234 | Test loss: 0.11225533\n",
      "Epoch: 1210 | Train loss: 0.05412150 | Test loss: 0.11021016\n",
      "Epoch: 1220 | Train loss: 0.05321066 | Test loss: 0.10816499\n",
      "Epoch: 1230 | Train loss: 0.05229982 | Test loss: 0.10611980\n",
      "Epoch: 1240 | Train loss: 0.05138898 | Test loss: 0.10407460\n",
      "Epoch: 1250 | Train loss: 0.05047815 | Test loss: 0.10202947\n",
      "Epoch: 1260 | Train loss: 0.04956730 | Test loss: 0.09998429\n",
      "Epoch: 1270 | Train loss: 0.04865646 | Test loss: 0.09793912\n",
      "Epoch: 1280 | Train loss: 0.04774562 | Test loss: 0.09589393\n",
      "Epoch: 1290 | Train loss: 0.04683479 | Test loss: 0.09384876\n",
      "Epoch: 1300 | Train loss: 0.04592394 | Test loss: 0.09180360\n",
      "Epoch: 1310 | Train loss: 0.04501311 | Test loss: 0.08975842\n",
      "Epoch: 1320 | Train loss: 0.04410227 | Test loss: 0.08771325\n",
      "Epoch: 1330 | Train loss: 0.04319148 | Test loss: 0.08566772\n",
      "Epoch: 1340 | Train loss: 0.04228160 | Test loss: 0.08375796\n",
      "Epoch: 1350 | Train loss: 0.04137255 | Test loss: 0.08198421\n",
      "Epoch: 1360 | Train loss: 0.04046309 | Test loss: 0.08014245\n",
      "Epoch: 1370 | Train loss: 0.03955403 | Test loss: 0.07836869\n",
      "Epoch: 1380 | Train loss: 0.03864464 | Test loss: 0.07659496\n",
      "Epoch: 1390 | Train loss: 0.03773553 | Test loss: 0.07475319\n",
      "Epoch: 1400 | Train loss: 0.03682620 | Test loss: 0.07297944\n",
      "Epoch: 1410 | Train loss: 0.03591702 | Test loss: 0.07113767\n",
      "Epoch: 1420 | Train loss: 0.03500777 | Test loss: 0.06932994\n",
      "Epoch: 1430 | Train loss: 0.03409856 | Test loss: 0.06755617\n",
      "Epoch: 1440 | Train loss: 0.03318926 | Test loss: 0.06571442\n",
      "Epoch: 1450 | Train loss: 0.03228013 | Test loss: 0.06394067\n",
      "Epoch: 1460 | Train loss: 0.03137074 | Test loss: 0.06209891\n",
      "Epoch: 1470 | Train loss: 0.03046170 | Test loss: 0.06032516\n",
      "Epoch: 1480 | Train loss: 0.02955223 | Test loss: 0.05848340\n",
      "Epoch: 1490 | Train loss: 0.02864319 | Test loss: 0.05670965\n",
      "Epoch: 1500 | Train loss: 0.02773371 | Test loss: 0.05486789\n",
      "Epoch: 1510 | Train loss: 0.02682467 | Test loss: 0.05309416\n",
      "Epoch: 1520 | Train loss: 0.02591524 | Test loss: 0.05132039\n",
      "Epoch: 1530 | Train loss: 0.02500616 | Test loss: 0.04947863\n",
      "Epoch: 1540 | Train loss: 0.02409681 | Test loss: 0.04770487\n",
      "Epoch: 1550 | Train loss: 0.02318765 | Test loss: 0.04586312\n",
      "Epoch: 1560 | Train loss: 0.02227838 | Test loss: 0.04408937\n",
      "Epoch: 1570 | Train loss: 0.02136914 | Test loss: 0.04224760\n",
      "Epoch: 1580 | Train loss: 0.02045996 | Test loss: 0.04047397\n",
      "Epoch: 1590 | Train loss: 0.01955066 | Test loss: 0.03863239\n",
      "Epoch: 1600 | Train loss: 0.01864157 | Test loss: 0.03685880\n",
      "Epoch: 1610 | Train loss: 0.01773220 | Test loss: 0.03501722\n",
      "Epoch: 1620 | Train loss: 0.01682317 | Test loss: 0.03324363\n",
      "Epoch: 1630 | Train loss: 0.01591373 | Test loss: 0.03140207\n",
      "Epoch: 1640 | Train loss: 0.01500468 | Test loss: 0.02962847\n",
      "Epoch: 1650 | Train loss: 0.01409526 | Test loss: 0.02778692\n",
      "Epoch: 1660 | Train loss: 0.01318623 | Test loss: 0.02601330\n",
      "Epoch: 1670 | Train loss: 0.01227681 | Test loss: 0.02423970\n",
      "Epoch: 1680 | Train loss: 0.01136777 | Test loss: 0.02239813\n",
      "Epoch: 1690 | Train loss: 0.01045842 | Test loss: 0.02062455\n",
      "Epoch: 1700 | Train loss: 0.00954930 | Test loss: 0.01878299\n",
      "Epoch: 1710 | Train loss: 0.00864003 | Test loss: 0.01700939\n",
      "Epoch: 1720 | Train loss: 0.00773083 | Test loss: 0.01516782\n",
      "Epoch: 1730 | Train loss: 0.00682164 | Test loss: 0.01339422\n",
      "Epoch: 1740 | Train loss: 0.00591236 | Test loss: 0.01155266\n",
      "Epoch: 1750 | Train loss: 0.00500325 | Test loss: 0.00977905\n",
      "Epoch: 1760 | Train loss: 0.00409389 | Test loss: 0.00793749\n",
      "Epoch: 1770 | Train loss: 0.00318486 | Test loss: 0.00616390\n",
      "Epoch: 1780 | Train loss: 0.00227543 | Test loss: 0.00432233\n",
      "Epoch: 1790 | Train loss: 0.00136640 | Test loss: 0.00254874\n",
      "Epoch: 1800 | Train loss: 0.00045694 | Test loss: 0.00070717\n",
      "Epoch: 1810 | Train loss: 0.00058938 | Test loss: 0.00142951\n",
      "Epoch: 1820 | Train loss: 0.00058938 | Test loss: 0.00142951\n",
      "Epoch: 1830 | Train loss: 0.00058938 | Test loss: 0.00142951\n",
      "Epoch: 1840 | Train loss: 0.00058938 | Test loss: 0.00142951\n",
      "Epoch: 1850 | Train loss: 0.00058938 | Test loss: 0.00142951\n",
      "Epoch: 1860 | Train loss: 0.00058938 | Test loss: 0.00142951\n",
      "Epoch: 1870 | Train loss: 0.00058938 | Test loss: 0.00142951\n",
      "Epoch: 1880 | Train loss: 0.00058938 | Test loss: 0.00142951\n",
      "Epoch: 1890 | Train loss: 0.00058938 | Test loss: 0.00142951\n",
      "Epoch: 1900 | Train loss: 0.00058938 | Test loss: 0.00142951\n",
      "Epoch: 1910 | Train loss: 0.00058938 | Test loss: 0.00142951\n",
      "Epoch: 1920 | Train loss: 0.00058938 | Test loss: 0.00142951\n",
      "Epoch: 1930 | Train loss: 0.00058938 | Test loss: 0.00142951\n",
      "Epoch: 1940 | Train loss: 0.00058938 | Test loss: 0.00142951\n",
      "Epoch: 1950 | Train loss: 0.00058938 | Test loss: 0.00142951\n",
      "Epoch: 1960 | Train loss: 0.00058938 | Test loss: 0.00142951\n",
      "Epoch: 1970 | Train loss: 0.00058938 | Test loss: 0.00142951\n",
      "Epoch: 1980 | Train loss: 0.00058938 | Test loss: 0.00142951\n",
      "Epoch: 1990 | Train loss: 0.00058938 | Test loss: 0.00142951\n",
      "Epoch: 2000 | Train loss: 0.00058938 | Test loss: 0.00142951\n",
      "Epoch: 2010 | Train loss: 0.00058938 | Test loss: 0.00142951\n",
      "Epoch: 2020 | Train loss: 0.00058938 | Test loss: 0.00142951\n",
      "Epoch: 2030 | Train loss: 0.00058938 | Test loss: 0.00142951\n",
      "Epoch: 2040 | Train loss: 0.00058938 | Test loss: 0.00142951\n",
      "Epoch: 2050 | Train loss: 0.00058938 | Test loss: 0.00142951\n",
      "Epoch: 2060 | Train loss: 0.00058938 | Test loss: 0.00142951\n",
      "Epoch: 2070 | Train loss: 0.00058938 | Test loss: 0.00142951\n",
      "Epoch: 2080 | Train loss: 0.00058938 | Test loss: 0.00142951\n",
      "Epoch: 2090 | Train loss: 0.00058938 | Test loss: 0.00142951\n",
      "Epoch: 2100 | Train loss: 0.00058938 | Test loss: 0.00142951\n",
      "Epoch: 2110 | Train loss: 0.00058938 | Test loss: 0.00142951\n",
      "Epoch: 2120 | Train loss: 0.00058938 | Test loss: 0.00142951\n",
      "Epoch: 2130 | Train loss: 0.00058938 | Test loss: 0.00142951\n",
      "Epoch: 2140 | Train loss: 0.00058938 | Test loss: 0.00142951\n",
      "Epoch: 2150 | Train loss: 0.00058938 | Test loss: 0.00142951\n",
      "Epoch: 2160 | Train loss: 0.00058938 | Test loss: 0.00142951\n",
      "Epoch: 2170 | Train loss: 0.00058938 | Test loss: 0.00142951\n",
      "Epoch: 2180 | Train loss: 0.00058938 | Test loss: 0.00142951\n",
      "Epoch: 2190 | Train loss: 0.00058938 | Test loss: 0.00142951\n",
      "Epoch: 2200 | Train loss: 0.00058938 | Test loss: 0.00142951\n",
      "Epoch: 2210 | Train loss: 0.00058938 | Test loss: 0.00142951\n",
      "Epoch: 2220 | Train loss: 0.00058938 | Test loss: 0.00142951\n",
      "Epoch: 2230 | Train loss: 0.00058938 | Test loss: 0.00142951\n",
      "Epoch: 2240 | Train loss: 0.00058938 | Test loss: 0.00142951\n",
      "Epoch: 2250 | Train loss: 0.00058938 | Test loss: 0.00142951\n",
      "Epoch: 2260 | Train loss: 0.00058938 | Test loss: 0.00142951\n",
      "Epoch: 2270 | Train loss: 0.00058938 | Test loss: 0.00142951\n",
      "Epoch: 2280 | Train loss: 0.00058938 | Test loss: 0.00142951\n",
      "Epoch: 2290 | Train loss: 0.00058938 | Test loss: 0.00142951\n",
      "Epoch: 2300 | Train loss: 0.00058938 | Test loss: 0.00142951\n",
      "Epoch: 2310 | Train loss: 0.00058938 | Test loss: 0.00142951\n",
      "Epoch: 2320 | Train loss: 0.00058938 | Test loss: 0.00142951\n",
      "Epoch: 2330 | Train loss: 0.00058938 | Test loss: 0.00142951\n",
      "Epoch: 2340 | Train loss: 0.00058938 | Test loss: 0.00142951\n",
      "Epoch: 2350 | Train loss: 0.00058938 | Test loss: 0.00142951\n",
      "Epoch: 2360 | Train loss: 0.00058938 | Test loss: 0.00142951\n",
      "Epoch: 2370 | Train loss: 0.00058938 | Test loss: 0.00142951\n",
      "Epoch: 2380 | Train loss: 0.00058938 | Test loss: 0.00142951\n",
      "Epoch: 2390 | Train loss: 0.00058938 | Test loss: 0.00142951\n",
      "Epoch: 2400 | Train loss: 0.00058938 | Test loss: 0.00142951\n",
      "Epoch: 2410 | Train loss: 0.00058938 | Test loss: 0.00142951\n",
      "Epoch: 2420 | Train loss: 0.00058938 | Test loss: 0.00142951\n",
      "Epoch: 2430 | Train loss: 0.00058938 | Test loss: 0.00142951\n",
      "Epoch: 2440 | Train loss: 0.00058938 | Test loss: 0.00142951\n",
      "Epoch: 2450 | Train loss: 0.00058938 | Test loss: 0.00142951\n",
      "Epoch: 2460 | Train loss: 0.00058938 | Test loss: 0.00142951\n",
      "Epoch: 2470 | Train loss: 0.00058938 | Test loss: 0.00142951\n",
      "Epoch: 2480 | Train loss: 0.00058938 | Test loss: 0.00142951\n",
      "Epoch: 2490 | Train loss: 0.00058938 | Test loss: 0.00142951\n",
      "Epoch: 2500 | Train loss: 0.00058938 | Test loss: 0.00142951\n",
      "Epoch: 2510 | Train loss: 0.00058938 | Test loss: 0.00142951\n",
      "Epoch: 2520 | Train loss: 0.00058938 | Test loss: 0.00142951\n",
      "Epoch: 2530 | Train loss: 0.00058938 | Test loss: 0.00142951\n",
      "Epoch: 2540 | Train loss: 0.00058938 | Test loss: 0.00142951\n",
      "Epoch: 2550 | Train loss: 0.00058938 | Test loss: 0.00142951\n",
      "Epoch: 2560 | Train loss: 0.00058938 | Test loss: 0.00142951\n",
      "Epoch: 2570 | Train loss: 0.00058938 | Test loss: 0.00142951\n",
      "Epoch: 2580 | Train loss: 0.00058938 | Test loss: 0.00142951\n",
      "Epoch: 2590 | Train loss: 0.00058938 | Test loss: 0.00142951\n",
      "Epoch: 2600 | Train loss: 0.00058938 | Test loss: 0.00142951\n",
      "Epoch: 2610 | Train loss: 0.00058938 | Test loss: 0.00142951\n",
      "Epoch: 2620 | Train loss: 0.00058938 | Test loss: 0.00142951\n",
      "Epoch: 2630 | Train loss: 0.00058938 | Test loss: 0.00142951\n",
      "Epoch: 2640 | Train loss: 0.00058938 | Test loss: 0.00142951\n",
      "Epoch: 2650 | Train loss: 0.00058938 | Test loss: 0.00142951\n",
      "Epoch: 2660 | Train loss: 0.00058938 | Test loss: 0.00142951\n",
      "Epoch: 2670 | Train loss: 0.00058938 | Test loss: 0.00142951\n",
      "Epoch: 2680 | Train loss: 0.00058938 | Test loss: 0.00142951\n",
      "Epoch: 2690 | Train loss: 0.00058938 | Test loss: 0.00142951\n",
      "Epoch: 2700 | Train loss: 0.00058938 | Test loss: 0.00142951\n",
      "Epoch: 2710 | Train loss: 0.00058938 | Test loss: 0.00142951\n",
      "Epoch: 2720 | Train loss: 0.00058938 | Test loss: 0.00142951\n",
      "Epoch: 2730 | Train loss: 0.00058938 | Test loss: 0.00142951\n",
      "Epoch: 2740 | Train loss: 0.00058938 | Test loss: 0.00142951\n",
      "Epoch: 2750 | Train loss: 0.00058938 | Test loss: 0.00142951\n",
      "Epoch: 2760 | Train loss: 0.00058938 | Test loss: 0.00142951\n",
      "Epoch: 2770 | Train loss: 0.00058938 | Test loss: 0.00142951\n",
      "Epoch: 2780 | Train loss: 0.00058938 | Test loss: 0.00142951\n",
      "Epoch: 2790 | Train loss: 0.00058938 | Test loss: 0.00142951\n",
      "Epoch: 2800 | Train loss: 0.00058938 | Test loss: 0.00142951\n",
      "Epoch: 2810 | Train loss: 0.00058938 | Test loss: 0.00142951\n",
      "Epoch: 2820 | Train loss: 0.00058938 | Test loss: 0.00142951\n",
      "Epoch: 2830 | Train loss: 0.00058938 | Test loss: 0.00142951\n",
      "Epoch: 2840 | Train loss: 0.00058938 | Test loss: 0.00142951\n",
      "Epoch: 2850 | Train loss: 0.00058938 | Test loss: 0.00142951\n",
      "Epoch: 2860 | Train loss: 0.00058938 | Test loss: 0.00142951\n",
      "Epoch: 2870 | Train loss: 0.00058938 | Test loss: 0.00142951\n",
      "Epoch: 2880 | Train loss: 0.00058938 | Test loss: 0.00142951\n",
      "Epoch: 2890 | Train loss: 0.00058938 | Test loss: 0.00142951\n",
      "Epoch: 2900 | Train loss: 0.00058938 | Test loss: 0.00142951\n",
      "Epoch: 2910 | Train loss: 0.00058938 | Test loss: 0.00142951\n",
      "Epoch: 2920 | Train loss: 0.00058938 | Test loss: 0.00142951\n",
      "Epoch: 2930 | Train loss: 0.00058938 | Test loss: 0.00142951\n",
      "Epoch: 2940 | Train loss: 0.00058938 | Test loss: 0.00142951\n",
      "Epoch: 2950 | Train loss: 0.00058938 | Test loss: 0.00142951\n",
      "Epoch: 2960 | Train loss: 0.00058938 | Test loss: 0.00142951\n",
      "Epoch: 2970 | Train loss: 0.00058938 | Test loss: 0.00142951\n",
      "Epoch: 2980 | Train loss: 0.00058938 | Test loss: 0.00142951\n",
      "Epoch: 2990 | Train loss: 0.00058938 | Test loss: 0.00142951\n"
     ]
    }
   ]
  },
  {
   "cell_type": "code",
   "execution_count": 10,
   "outputs": [
    {
     "data": {
      "text/plain": "<Figure size 640x480 with 1 Axes>",
      "image/png": "[encoded data removed]"
     },
     "metadata": {},
     "output_type": "display_data"
    }
   ],
   "source": [
    "# plot losses\n",
    "plt.plot(epoch_count, train_loss_values, label=\"Train loss\")\n",
    "plt.plot(epoch_count, test_loss_values, label=\"Test loss\")\n",
    "plt.title(\"Training and test loss curves\")\n",
    "plt.ylabel(\"Loss\")\n",
    "plt.xlabel(\"Epochs\")\n",
    "plt.legend();"
   ],
   "metadata": {
    "collapsed": false
   }
  },
  {
   "cell_type": "markdown",
   "source": [
    "## 4. Make predictions with the trained model on the test data.\n",
    "  * Visualize these predictions against the original training and testing data (**note:** you may need to make sure the predictions are *not* on the GPU if you want to use non-CUDA-enabled libraries such as matplotlib to plot)."
   ],
   "metadata": {
    "id": "x4j4TM18jwa7"
   }
  },
  {
   "cell_type": "code",
   "source": [
    "# Make predictions with the model\n",
    "with torch.inference_mode():\n",
    "    y_test_predictions = model(X_test)"
   ],
   "metadata": {
    "id": "bbMPK5Qjjyx_"
   },
   "execution_count": 11,
   "outputs": []
  },
  {
   "cell_type": "code",
   "source": [
    "# Plot the predictions (these may need to be on a specific device)\n",
    "plotData(predictions=y_test_predictions)"
   ],
   "metadata": {
    "id": "K3BdmQaDpFo8"
   },
   "execution_count": 12,
   "outputs": [
    {
     "data": {
      "text/plain": "<Figure size 1000x700 with 1 Axes>",
      "image/png": "[encoded data removed]"
     },
     "metadata": {},
     "output_type": "display_data"
    }
   ]
  },
  {
   "cell_type": "markdown",
   "source": [
    "## 5. Save your trained model's `state_dict()` to file.\n",
    "  * Create a new instance of your model class you made in 2. and load in the `state_dict()` you just saved to it.\n",
    "  * Perform predictions on your test data with the loaded model and confirm they match the original model predictions from 4."
   ],
   "metadata": {
    "id": "s2OnlMWKjzX8"
   }
  },
  {
   "cell_type": "code",
   "source": [
    "from pathlib import Path\n",
    "\n",
    "# 1. Create models directory \n",
    "MODEL_PATH = Path(\"models\")\n",
    "MODEL_PATH.mkdir(parents=True, exist_ok=True)\n",
    "# 2. Create model save path \n",
    "MODEL_NAME = \"LinearRegModel.pth\"\n",
    "MODEL_SAVE_PATH = MODEL_PATH / MODEL_NAME\n",
    "# 3. Save the model state dict\n",
    "print(f\"Saving model to: {MODEL_SAVE_PATH}\")\n",
    "torch.save(obj=model.state_dict(), f=MODEL_SAVE_PATH)"
   ],
   "metadata": {
    "id": "hgxhgD14qr-i"
   },
   "execution_count": 13,
   "outputs": [
    {
     "name": "stdout",
     "output_type": "stream",
     "text": [
      "Saving model to: models\\LinearRegModel.pth\n"
     ]
    }
   ]
  },
  {
   "cell_type": "code",
   "source": [
    "# Create new instance of model and load saved state dict (make sure to put it on the target device)\n",
    "loaded_model = LinearRegModel()\n",
    "loaded_model.load_state_dict(torch.load(f=MODEL_PATH / \"LinearRegModel.pth\"))"
   ],
   "metadata": {
    "id": "P9vTgiLRrJ7T"
   },
   "execution_count": 14,
   "outputs": [
    {
     "data": {
      "text/plain": "<All keys matched successfully>"
     },
     "execution_count": 14,
     "metadata": {},
     "output_type": "execute_result"
    }
   ]
  },
  {
   "cell_type": "code",
   "source": [
    "# Make predictions with loaded model and compare them to the previous\n",
    "start = 3\n",
    "end = 12\n",
    "step = 0.2\n",
    "test_set_2 = torch.arange(start, end, step).unsqueeze(dim=1)\n",
    "\n",
    "\n",
    "with torch.inference_mode():\n",
    "  test_set_2_predictions = model(test_set_2)\n",
    "\n",
    "test_set_2_predictions = test_set_2_predictions.cpu()\n",
    "test_set_2 = test_set_2.cpu()\n",
    "\n",
    "plotData((test_set_2, test_set_2_predictions), train_data=X_train, train_labels=y_train, test_data=X_test, test_labels=y_test)"
   ],
   "metadata": {
    "id": "8UGX3VebrVtI"
   },
   "execution_count": 15,
   "outputs": [
    {
     "name": "stdout",
     "output_type": "stream",
     "text": [
      "predictions not intialized\n"
     ]
    },
    {
     "data": {
      "text/plain": "<Figure size 1000x700 with 1 Axes>",
      "image/png": "[encoded data removed]"
     },
     "metadata": {},
     "output_type": "display_data"
    }
   ]
  },
  {
   "cell_type": "code",
   "execution_count": 15,
   "outputs": [],
   "source": [],
   "metadata": {
    "collapsed": false
   }
  }
 ]
}
